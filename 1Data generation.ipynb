{
 "cells": [
  {
   "cell_type": "code",
   "execution_count": 1,
   "id": "425571dd-ad4a-4827-9b0b-054ea3700665",
   "metadata": {},
   "outputs": [
    {
     "name": "stdout",
     "output_type": "stream",
     "text": [
      "Data generation complete and saved to student_data1.csv\n"
     ]
    }
   ],
   "source": [
    "import random\n",
    "import pandas as pd\n",
    "\n",
    "def generate_student_data(num_students):\n",
    "    students = []\n",
    "    programs = [\"Computer Science\", \"Engineering\", \"Arts\"]\n",
    "    criteria = [\"Entrance Exam\", \"Merit-based\", \"Sports Quota\"]\n",
    "    course_names = [\"Course1\", \"Course2\", \"Course3\"]  # Consistent course names\n",
    "    grades = [85, 90, 70, 60, 50]  # Corresponding numeric grades for simplicity\n",
    "\n",
    "    for i in range(num_students):\n",
    "        gpa = round(random.uniform(2.0, 10.0), 2)  # GPA extended to a 10-point scale\n",
    "        performance = 1 if gpa >= 6 else 0  # Assuming a GPA >= 6 is good performance\n",
    "        student = {\n",
    "            \"Student ID\": i + 1,\n",
    "            \"Gender\": random.choice([\"Male\", \"Female\"]),\n",
    "            \"Admission Criteria\": random.choice(criteria),\n",
    "            \"Program\": random.choice(programs),\n",
    "            \"Section\": random.choice([\"A\", \"B\", \"C\"]),\n",
    "            \"Instructor ID\": random.randint(100, 500),\n",
    "            \"Course ID\": random.randint(1000, 2000),  # Use numeric Course IDs\n",
    "            \"Course Name\": random.choice(course_names),\n",
    "            \"GPA\": gpa,\n",
    "            \"Grade\": random.choice(grades),\n",
    "            \"Performance\": performance\n",
    "        }\n",
    "        students.append(student)\n",
    "    return students\n",
    "\n",
    "# Generate 3000 students\n",
    "data = generate_student_data(3000)\n",
    "\n",
    "# Export to CSV\n",
    "df = pd.DataFrame(data)\n",
    "df.to_csv(\"student_data.csv\", index=False)\n",
    "\n",
    "print(\"Data generation complete and saved to student_data1.csv\")\n"
   ]
  },
  {
   "cell_type": "code",
   "execution_count": null,
   "id": "c00ffb34-2f43-4c1a-93cd-24669a316680",
   "metadata": {},
   "outputs": [],
   "source": []
  }
 ],
 "metadata": {
  "kernelspec": {
   "display_name": "Python 3 (ipykernel)",
   "language": "python",
   "name": "python3"
  },
  "language_info": {
   "codemirror_mode": {
    "name": "ipython",
    "version": 3
   },
   "file_extension": ".py",
   "mimetype": "text/x-python",
   "name": "python",
   "nbconvert_exporter": "python",
   "pygments_lexer": "ipython3",
   "version": "3.12.4"
  }
 },
 "nbformat": 4,
 "nbformat_minor": 5
}
